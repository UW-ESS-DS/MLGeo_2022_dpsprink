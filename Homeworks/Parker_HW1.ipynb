{
 "cells": [
  {
   "cell_type": "markdown",
   "id": "41869109-cf36-4c2e-8f02-6d07ab5db3ed",
   "metadata": {},
   "source": [
    "\n",
    "# <center> **Parker Homework 1 Notebook** <center>\n"
   ]
  },
  {
   "cell_type": "markdown",
   "id": "ee9a9c7f-5274-4418-809c-ed4ac5ec4d01",
   "metadata": {},
   "source": [
    "# HW 1 \n",
    "# Parker Sprinkle\n",
    "# UW - ESS\n"
   ]
  },
  {
   "cell_type": "markdown",
   "id": "718a499c-eb13-4560-bd80-eefb4b635814",
   "metadata": {},
   "source": [
    "## **Python Skills**"
   ]
  },
  {
   "cell_type": "code",
   "execution_count": 19,
   "id": "a14a42a2-883e-4d16-b8c9-333f77ee039b",
   "metadata": {},
   "outputs": [],
   "source": [
    "import matplotlib.pyplot as plt\n",
    "import numpy as np\n"
   ]
  },
  {
   "cell_type": "code",
   "execution_count": 20,
   "id": "f7bd9793-d20a-42ef-9d30-9b6b173ec363",
   "metadata": {},
   "outputs": [],
   "source": [
    "def ricker(f,length=1.2,dt=1/100):\n",
    "    t = np.arange(-length/2, (length-dt)/2, dt)\n",
    "    y = (1.0 - 2.0*(np.pi**2)*(f**2)*(t**2)) * np.exp(-(np.pi**2)*(f**2)*(t**2))\n",
    "    return t, y"
   ]
  },
  {
   "cell_type": "code",
   "execution_count": 21,
   "id": "41e5d978-6fc1-45a5-b605-ab8f44eef5c8",
   "metadata": {},
   "outputs": [
    {
     "data": {
      "image/png": "[encoded data removed]",
      "text/plain": [
       "<Figure size 432x288 with 1 Axes>"
      ]
     },
     "metadata": {
      "needs_background": "light"
     },
     "output_type": "display_data"
    }
   ],
   "source": [
    "f = 50\n",
    "t,w = ricker(f)\n",
    "plt.figure()\n",
    "plt.plot(t,w)\n",
    "plt.savefig(f\"./ricker.png\",bbox_inches = 'tight')"
   ]
  },
  {
   "cell_type": "code",
   "execution_count": null,
   "id": "b2427458-2cc8-4fed-a44c-71c38bdb7082",
   "metadata": {},
   "outputs": [],
   "source": []
  }
 ],
 "metadata": {
  "kernelspec": {
   "display_name": "Python 3 (ipykernel)",
   "language": "python",
   "name": "python3"
  },
  "language_info": {
   "codemirror_mode": {
    "name": "ipython",
    "version": 3
   },
   "file_extension": ".py",
   "mimetype": "text/x-python",
   "name": "python",
   "nbconvert_exporter": "python",
   "pygments_lexer": "ipython3",
   "version": "3.8.13"
  }
 },
 "nbformat": 4,
 "nbformat_minor": 5
}
