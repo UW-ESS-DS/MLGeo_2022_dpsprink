{
 "cells": [
  {
   "cell_type": "markdown",
   "metadata": {},
   "source": [
    "# Data Spectral Transform\n",
    "\n",
    "In this section, we will transform the data by projecting it onto basis of functions. The two most used transforms as the **Fourier** and the **wavelet** transforms.\n"
   ]
  },
  {
   "cell_type": "code",
   "execution_count": null,
   "metadata": {},
   "outputs": [],
   "source": [
    "# Import modules for seismic data and feature extraction\n",
    "\n",
    "import numpy as np\n",
    "\n",
    "import matplotlib.pyplot as plt\n",
    "import pandas as pd\n",
    "import scipy\n",
    "import scipy.signal as signal\n",
    "\n",
    "\n",
    "# seismic python toolbox\n",
    "import obspy\n",
    "import obspy.clients.fdsn.client as fdsn\n",
    "from obspy import UTCDateTime\n",
    "\n"
   ]
  },
  {
   "cell_type": "markdown",
   "metadata": {},
   "source": [
    "We will first download data. The seismic data from Puget Sound for a large M8.2 earthquake that happened in Alaska, July 29, 2021."
   ]
  },
  {
   "cell_type": "code",
   "execution_count": null,
   "metadata": {},
   "outputs": [],
   "source": [
    "# Download seismic data\n",
    "network = 'UW'\n",
    "station = 'RATT'\n",
    "channel = 'HHZ'# this channel gives a low frequency, 1Hz signal.\n",
    "Tstart = UTCDateTime(2021,7,29,6,15)\n",
    "Tend = Tstart+7200# UTCDateTime(year=2022, month=10, day=8)\n",
    "fdsn_client = fdsn.Client('IRIS') # client to query the IRIS DMC server\n",
    "\n",
    "# call to download the specific data: earthquake waveforms\n",
    "Z = fdsn_client.get_waveforms(network=network, station=station, location='--', channel=channel, starttime=Tstart, \\\n",
    "    endtime=Tend, attach_response=True)\n",
    "# basic pre-processing: merge all data if there is gaps, detrend, taper,\n",
    "#  remove the seismic instrumental response to go from the digitizer units to ground motion (velocity) units.\n",
    "Z.merge(); Z.detrend(type='linear'); Z[0].taper(max_percentage=0.05);Z[0].remove_response()\n",
    "\n",
    "\n",
    "# call to download the specific data: noise waveforms\n",
    "N = fdsn_client.get_waveforms(network=network, station=station, location='--', channel=channel, starttime=Tstart-7200, \\\n",
    "    endtime=Tstart, attach_response=True)\n",
    "# basic pre-processing: merge all data if there is gaps, detrend, taper,\n",
    "#  remove the seismic instrumental response to go from the digitizer units to ground motion (velocity) units.\n",
    "\n",
    "N.merge(); N.detrend(type='linear');N[0].taper(max_percentage=0.05);N[0].remove_response()"
   ]
  },
  {
   "cell_type": "code",
   "execution_count": null,
   "metadata": {},
   "outputs": [],
   "source": [
    "plt.plot(Z[0].data);plt.plot(N[0].data);plt.grid(True);plt.ylabel('Velocity (m/s)')"
   ]
  },
  {
   "cell_type": "markdown",
   "metadata": {},
   "source": [
    "\n",
    "\n",
    "## Fourier Transform\n",
    "We use the Scipy Fourier [package](!https://docs.scipy.org/doc/scipy/reference/generated/scipy.fftpack.rfft.html#scipy.fftpack.rfft) to transform the two time series (earthquake and noise).\n",
    "\n",
    "The Fourier transform is a decomposition of the time series onto a orthonormal basis of cosine and sine functions. The Fourier transform of a time series $f(t)$ (but similarly if the variable is space $x$).\n",
    "\n",
    "$\\hat{F}(f) = \\int_{-\\infty}^\\infty f(t) \\exp^{-i2\\pi ft} dt$\n",
    "\n",
    "$\\hat{F}(f)$ is the complex Fourier value at frequency $f$. The FOurier transform determines what frequency(ies) dominate the time series.\n",
    "\n",
    "\n",
    "\n",
    "### Nyquist\n",
    "The Fourier transform we will use in this class takes a discrete time series of real numbers. The time series is sampled with $N$ samples per seconds. If the time series span $T$ seconds regularly, then the sampling rate of the data $dt=T/N$. The highest frequency that can be resolved in a discrete time series, called the Nyquist frequency, is limited by $dt$:\n",
    "\n",
    "$F_{Nyq} = \\frac{1}{2dt N}$\n",
    "\n",
    "Effectively, one cannot constrain signals within two time samples from the data.\n",
    "\n",
    "### Uncertainties\n",
    "* The discrete Fourier Transform yields an approximation of the FT. The shorter the time series, the least accurate is the FT. This means that the FT on short time windows is less accurate\n",
    "* The FT assumes (and requires) the periodicity of the series, meaning that the finite/trimmed time series would repeat in time. To enforce this, we  **taper** the time series so that the first and last points are equal (to zero).\n"
   ]
  },
  {
   "cell_type": "code",
   "execution_count": null,
   "metadata": {},
   "outputs": [],
   "source": [
    "from scipy.fftpack import fft, ifft, fftfreq, next_fast_len\n",
    "\n",
    "npts = Z[0].stats.npts\n",
    "## FFT the signals\n",
    "# fill up until 2^N value to speed up the FFT\n",
    "Nfft = next_fast_len(int(Z[0].data.shape[0])) # this will be an even number\n",
    "freqVec = fftfreq(Nfft, d=Z[0].stats.delta)[:Nfft//2]\n",
    "Z.taper(max_percentage=0.05)\n",
    "Zhat = fft(Z[0].data,n=Nfft)#/np.sqrt(Z[0].stats.npts)\n"
   ]
  },
  {
   "cell_type": "markdown",
   "metadata": {},
   "source": [
    "Please see the Obspy documentation to find out about the [taper](!https://docs.obspy.org/master/packages/autogen/obspy.core.trace.Trace.taper.html#supported-methods) function.\n",
    "Plot the amplitude and phase spectra"
   ]
  },
  {
   "cell_type": "code",
   "execution_count": null,
   "metadata": {},
   "outputs": [],
   "source": [
    "fig,ax=plt.subplots(2,1,figsize=(11,8))\n",
    "ax[0].plot(freqVec,np.abs(Zhat[:Nfft//2])/Nfft)\n",
    "ax[0].grid(True)\n",
    "ax[0].set_xscale('log');ax[0].set_yscale('log')\n",
    "ax[0].set_xlabel('Frequency (Hz)');ax[0].set_ylabel('Amplitude (m/s)')\n",
    "ax[1].hist(np.angle(Zhat))\n",
    "ax[1].grid(True)\n"
   ]
  },
  {
   "cell_type": "markdown",
   "metadata": {},
   "source": [
    "You will note above that the phase values are randomly distributed between -pi and pi. We can check it by showing the distribution of the phase and amplitude spectra.\n"
   ]
  },
  {
   "cell_type": "code",
   "execution_count": null,
   "metadata": {},
   "outputs": [],
   "source": [
    "# your turn. Plot the histograms of the phase and amplitude spectrum\n",
    "plt.hist(np.log10(np.abs(Zhat[:Nfft//2])/Nfft),100);plt.grid(True)\n",
    "plt.show()"
   ]
  },
  {
   "cell_type": "markdown",
   "metadata": {},
   "source": [
    "We can also analyze the spectral characteristics of the noise time series. Below, \n",
    "1. compute the Fourier transform\n",
    "2. plot the phase and amplitude spectra\n",
    "3. plot the distribution of the phase and amplitude values"
   ]
  },
  {
   "cell_type": "code",
   "execution_count": null,
   "metadata": {},
   "outputs": [],
   "source": [
    "# compute Fourier transform of the noise time series\n"
   ]
  },
  {
   "cell_type": "code",
   "execution_count": null,
   "metadata": {},
   "outputs": [],
   "source": [
    "# plot the phase and amplitude spectra"
   ]
  },
  {
   "cell_type": "code",
   "execution_count": null,
   "metadata": {},
   "outputs": [],
   "source": [
    "# Overlay the spectrum of the data and the spectrum of the noise\n"
   ]
  },
  {
   "cell_type": "markdown",
   "metadata": {},
   "source": [
    "Overlay their PDFs"
   ]
  },
  {
   "cell_type": "code",
   "execution_count": null,
   "metadata": {},
   "outputs": [],
   "source": [
    "# your turn. Plot the histograms of the phase and amplitude spectrum\n"
   ]
  },
  {
   "cell_type": "markdown",
   "metadata": {},
   "source": [
    "You notice that their statistical differences are in the tails of the distributions. Therefore, statistical metrics such as ``mean`` or ``variance`` may not be a discriminatory, but ``kurtosis`` might."
   ]
  },
  {
   "cell_type": "code",
   "execution_count": null,
   "metadata": {},
   "outputs": [],
   "source": [
    "# Here print mean, median, variance, max, skewness, kurtosis of the log10 of the amplitude spectrum of noise and earthquake waveforms.\n",
    "\n"
   ]
  },
  {
   "cell_type": "markdown",
   "metadata": {},
   "source": [
    "### Filtering in the Fourier space\n",
    "\n",
    "The data may super-impose multiple signals of various frequencies. To remove or extract specific signals that do not overlap in frequencies, we can *filter* the data. \n",
    "\n",
    "The filter can be:\n",
    "* **high pass**: reduce signals at frequencies *lower* than a corner frequency $f_c$, only let the signals *above* $f_c$. Often parameterized in functions as ``hp`` or ``highpass``.\n",
    "* **low pass**: reduce signals at frequencies *greater* than a cutoff frequency $f_c$, only let the signals *below* that $f_c$. Often parameterized in functions as ``lp`` or ``lowpass``.\n",
    "* **band pass**: reduce signals at frequencies *lower* than a low corner frequency $f_{c1}$ and at frequencies *greater* than a high corner frequency $f_{c2}>f_{c1}$. Often parameterized as ``bp`` or ``bandpass``.\n",
    "\n",
    "\n",
    "There exist different types of filters, the most common are ``butterworth`` and ``chebyshev``, but there exist others.\n",
    "\n",
    "<div>\n",
    "<img src=\"filters.png\" alt=\"filters\" height=300  />\n",
    "</div>\n",
    "\n",
    "Examples of filters illustrated [here](!https://www.ni.com/docs/en-US/bundle/labview/page/lvanlsconcepts/lvac_iir_filter_types.html).\n",
    "\n",
    "One example is that we want to remove unrealistic signals arising from sensor limitations. Seismometers are rarely sensitive to signals that have periods longer than 100s.\n",
    "\n",
    "We will use the ``scipy.signal`` module to filter the time series. First we remove the unrealistic signals past 150 s."
   ]
  },
  {
   "cell_type": "code",
   "execution_count": null,
   "metadata": {},
   "outputs": [],
   "source": [
    "# sampling rate of the data:\n",
    "fs = Z[0].stats.sampling_rate\n",
    "z=np.asarray(Z[0].data)\n",
    "n=np.asarray(N[0].data)"
   ]
  },
  {
   "cell_type": "markdown",
   "metadata": {},
   "source": [
    "We use here a [*butterworth*](!https://docs.scipy.org/doc/scipy/reference/generated/scipy.signal.butter.html) filter of second order between 1s and 150s. The ``sos`` filter is a *second-order sections*, which are the produc of second-order polynomials to represent the original filters. They are more complex but more stable."
   ]
  },
  {
   "cell_type": "code",
   "execution_count": null,
   "metadata": {},
   "outputs": [],
   "source": [
    "\n",
    "sos = signal.butter(2,[1.,10.], 'bp', fs=fs, output='sos')\n",
    "zf = signal.sosfilt(sos, z)\n",
    "nf = signal.sosfilt(sos, n)\n",
    "t=np.arange(0.,7200.,1./fs)"
   ]
  },
  {
   "cell_type": "markdown",
   "metadata": {},
   "source": [
    "Below, make a 2 subplots to show the raw data in the top subplot, and the filtered data in the bottom subplots."
   ]
  },
  {
   "cell_type": "code",
   "execution_count": null,
   "metadata": {},
   "outputs": [],
   "source": [
    "# Type below"
   ]
  },
  {
   "cell_type": "markdown",
   "metadata": {},
   "source": [
    "Now filter at high frequencies (>10Hz), plot the data, and compare earthquakes and noise signals. "
   ]
  },
  {
   "cell_type": "code",
   "execution_count": null,
   "metadata": {},
   "outputs": [],
   "source": [
    "# enter below\n"
   ]
  },
  {
   "cell_type": "markdown",
   "metadata": {},
   "source": [
    "## Synthetic Noise\n",
    "Now we could add more noise to the earthquake time series. There are several strategies:\n",
    "\n",
    "* From time domain, use the ``np.rand[n]`` functions to create a random times series\n",
    "* From the Fourier domain, use ``np.rand[n]`` functions to create a random *phase spectrum* between -$\\pi$ and $\\pi$. For the *amplitude spectrum*, you may choose a *white* color, which means that the amplitude spectrum is flat and equal at all frequencies; you may choose a *color* for the spectrum, for instance an amplitude that decays with $1/f$; you may choose the spectrum of the realistic noise, for instance extracted from raw data.\n"
   ]
  },
  {
   "cell_type": "markdown",
   "metadata": {},
   "source": [
    "# Use random functions\n",
    "\n",
    "Below, use the random function to create a synthetic noise. \n",
    "1. Create an array of random numbers between -1 and 1 of length the same length as the data Z.\n",
    "2. Calculate the signal-to-noise ratio, for instance: \n",
    "\n",
    "$ SNR = 20 log_{10} (\\frac{\\max(|signal|)}{\\max(|noise)})$\n",
    "\n",
    "3. Add the synthetic noise with a varying SNR"
   ]
  },
  {
   "cell_type": "code",
   "execution_count": null,
   "metadata": {},
   "outputs": [],
   "source": [
    "# 1. Create a time series of the synethetic noise"
   ]
  },
  {
   "cell_type": "code",
   "execution_count": null,
   "metadata": {},
   "outputs": [],
   "source": [
    "#2. calculate the SNR"
   ]
  },
  {
   "cell_type": "code",
   "execution_count": null,
   "metadata": {},
   "outputs": [],
   "source": [
    "# make a loop to add increasing SNRs to the earthquake signal"
   ]
  },
  {
   "cell_type": "markdown",
   "metadata": {},
   "source": [
    "## 2D Fourier Transforms\n",
    "\n",
    "The 2D Fourier transform is applied on a 2D matrix. It first applies a 1D Fourier transform to every row of the matrix, then applies a 1D Fourier transform to every column of the intermediate matrix.\n",
    "\n",
    "2D Fourier transforms can be used to find the Fourier coefficients that dominate the image. This can be used for filtering the data. Another application is to compress the data by selecting several coefficients instead of present most of the image.\n",
    "\n",
    "We will practice on a DEM."
   ]
  },
  {
   "cell_type": "code",
   "execution_count": null,
   "metadata": {},
   "outputs": [],
   "source": [
    "import wget\n",
    "import os\n",
    "import netCDF4 as nc\n"
   ]
  },
  {
   "cell_type": "code",
   "execution_count": null,
   "metadata": {},
   "outputs": [],
   "source": [
    "# Download the geological framework\n",
    "file1 = wget.download(\"https://www.dropbox.com/s/wdb25puxh3u07dj/NCM_GeologicFrameworkGrids.nc?dl=1\") #\"./data/NCM_GeologicFrameworkGrids.nc\"\n",
    "# Download the coordinate grids\n",
    "file2 = wget.download(\"https://www.dropbox.com/s/i6tv3ug15oe6yhe/NCM_SpatialGrid.nc?dl=1\") #\"./data/NCM_GeologicFrameworkGrids.nc\""
   ]
  },
  {
   "cell_type": "code",
   "execution_count": null,
   "metadata": {},
   "outputs": [],
   "source": [
    "# move data\n",
    "os.makedirs('../../data/')\n",
    "os.replace(file1,'../../data/'+file1)\n",
    "os.replace(file2,'../../data/'+file2)"
   ]
  },
  {
   "cell_type": "code",
   "execution_count": null,
   "metadata": {},
   "outputs": [],
   "source": [
    "# read data\n",
    "geology = nc.Dataset('../../data/'+file1)\n",
    "grid = nc.Dataset('../../data/'+file2)"
   ]
  },
  {
   "cell_type": "code",
   "execution_count": null,
   "metadata": {},
   "outputs": [],
   "source": [
    "# create a grid of latitude and longitude\n",
    "x = grid['x'][0:4901, 0:3201]\n",
    "y = grid['y'][0:4901, 0:3201]\n",
    "elevation = geology['Surface Elevation'][0:4901, 0:3201]\n",
    "plt.contourf(x, y, elevation)\n",
    "\n",
    "# recreate the lat long vectors.\n",
    "minlat,maxlat = min(grid['Latitude vector'][:]),max(grid['Latitude vector'][:])\n",
    "minlon,maxlon = min(grid['Longitude vector'][:]),max(grid['Longitude vector'][:])\n",
    "xlat = np.linspace(minlat,maxlat,3201)\n",
    "xlon = np.linspace(minlon,maxlon,4901)"
   ]
  },
  {
   "cell_type": "markdown",
   "metadata": {},
   "source": [
    "Consider ``elevation`` as a 2D data set. We can perform a 2D transform, which will give us a spectrum in the spatial dimension."
   ]
  },
  {
   "cell_type": "code",
   "execution_count": null,
   "metadata": {},
   "outputs": [],
   "source": [
    "from scipy.fftpack import fft2, fftfreq,fftshift, ifft2\n",
    "import matplotlib.cm as cm\n",
    "Zel = fft2(elevation)\n",
    "\n",
    "\n",
    "\n",
    "# make a vector of distances. Here I will ignore the curvature and spatial projection.\n",
    "# make the wavenumber frequency vector: \n",
    "Rlon = (xlon-np.min(xlon))*111.25  # convert degrees to kms\n",
    "drlon = Rlon[1]-Rlon[0]\n",
    "print(\"this is about the spatial sampling of the model \",drlon,\" km\")\n",
    "klon = (fftfreq( 4901//2 , drlon  ))\n",
    "\n",
    "\n",
    "Rlat = (xlat-np.min(xlat))*111.25  # convert degrees to kms\n",
    "drlat = Rlat[1]-Rlat[0]\n",
    "print(\"this is about the spatial sampling of the model \",drlat,\" km\")\n",
    "klat = (fftfreq( 3201//2 , drlat  ))\n",
    "\n",
    "# amplitude of the DEM\n",
    "plt.imshow(fftshift(np.log10(np.abs(Zel)/Zel.size)),vmin=-3, vmax=-1, cmap='RdYlBu',extent=[-1,1,-1,1])\n",
    "plt.title('2D FT of elevation')\n",
    "x_label_list = ['-1/3 km$^{-1}$','0','1/3  km$^{-1}$']\n",
    "plt.xticks([-0.5,0,0.5])\n",
    "plt.yticks([-0.5,0,0.5])\n",
    "plt.show()"
   ]
  },
  {
   "cell_type": "markdown",
   "metadata": {},
   "source": [
    "Now we will filter or compress by taking the largest Fourier coefficients of the image."
   ]
  },
  {
   "cell_type": "code",
   "execution_count": null,
   "metadata": {},
   "outputs": [],
   "source": [
    "# Sort the Fourier coefficients\n",
    "Zsort = np.sort(np.abs(np.abs(Zel).reshape(-1)))"
   ]
  },
  {
   "cell_type": "code",
   "execution_count": null,
   "metadata": {},
   "outputs": [],
   "source": [
    "print(len(Zsort))\n",
    "print(Zsort.shape)"
   ]
  },
  {
   "cell_type": "code",
   "execution_count": null,
   "metadata": {},
   "outputs": [],
   "source": [
    "from IPython import display\n",
    "import time\n",
    "for keep in (0.1,0.05,0.01):\n",
    "    display.clear_output(wait=True)\n",
    "    thresh = Zsort[int(np.floor( (1-keep)*len(Zsort) ))]\n",
    "    ind = np.abs(Zel)>thresh\n",
    "    Atlow = Zel * ind # here we zero out the matrix\n",
    "    # Here we count the number of non-zeros in the matrix\n",
    "    print(\"We are keeping up to %f the number of Fourier coefficients\" % keep)\n",
    "    Alow = ifft2(Atlow).real\n",
    "    plt.contourf(x, y, Alow)\n",
    "    time.sleep(1)"
   ]
  },
  {
   "cell_type": "markdown",
   "metadata": {},
   "source": [
    "Now we will compare the original 2D data set with the Fourier compressed data\n"
   ]
  },
  {
   "cell_type": "code",
   "execution_count": null,
   "metadata": {},
   "outputs": [],
   "source": [
    "keep=0.01\n",
    "thresh = Zsort[int(np.floor( (1-keep)*len(Zsort) ))]\n",
    "ind = np.abs(Zel)>thresh\n",
    "Atlow = Zel * ind # here we zero out the matrix\n",
    "# Here we count the number of non-zeros in the matrix\n",
    "print(\"We are keeping up to %f the number of Fourier coefficients\" % keep)\n",
    "Alow = ifft2(Atlow).real\n",
    "\n",
    "\n",
    "fig,ax=plt.subplots(1,2,figsize=(8,8),sharex=True)\n",
    "ax[0].contourf(x, y, elevation);ax[0].set_title('Original data')\n",
    "ax[0].axis('scaled')\n",
    "ax[1].contourf(x, y, Alow);ax[1].set_title('Compressed data')\n",
    "ax[1].axis('scaled')"
   ]
  },
  {
   "cell_type": "code",
   "execution_count": null,
   "metadata": {},
   "outputs": [],
   "source": []
  },
  {
   "cell_type": "markdown",
   "metadata": {},
   "source": [
    "### Wavelet transform\n",
    "\n",
    "The wavelet transform projects the time series onto a 2D space of *time* and *scale* axis. The *scale* is a representation of the frequency scale of the data. The waveletn transforms uses a series of functions called *wavelets* to linearly decompose the signals. Unlike the *sine* functions of the Fourier transform, the *wavelets* have finite durations and are localized in time:\n",
    "\n",
    " <div>\n",
    "<img src=\"Wavelet-Out1.jpeg\" alt=\"wavelet\" height=100  />\n",
    "</div>\n",
    "\n",
    "Image from this [article](!https://ataspinar.com/2018/12/21/a-guide-for-using-the-wavelet-transform-in-machine-learning/).\n",
    "\n",
    "There exist many canonical wavelet families. The difference between families are typically their shape, compactness, and smoothness. Typically, one chooses one family for the specific time series. Wavelets have finite energy and zero mean.\n",
    "\n",
    "The time-scale representation of of a time series is a *scaleogram*. *scales* can be converted to pseudo frequencies: If $f_c$ is the central frequency of the wavelet and the scale is $a$, then the pseuo-frequency is $f_a = f_c/a$.\n",
    "\n",
    "\n",
    " <div>\n",
    "<img src=\"wavelet_families.png\" alt=\"wavelet\" height=300  />\n",
    "</div>\n",
    "\n",
    "Image from this [article](!https://ataspinar.com/2018/12/21/a-guide-for-using-the-wavelet-transform-in-machine-learning/).\n",
    "\n",
    "The wavelet transform becomes:\n",
    "\n",
    "$\\hat{F}(a,b) = \\frac{1}{\\sqrt{a}} \\int_{-\\infty}^\\infty f(t) \\bar{\\Psi} (\\frac{t-b}{a}) dt$\n",
    "\n",
    "where $\\bar{\\Psi}$ is the mother wavelet scaled by a factor of $a$ and translated/shifted by $b$. The wavelet transform is scaled by the continuous and \"infinite number of values\" of $a$ and $b$ are continuous. The *Discrete Wavelet Transform* is the wavelet transform performed on a finite number of scales and shifts."
   ]
  },
  {
   "cell_type": "code",
   "execution_count": null,
   "metadata": {},
   "outputs": [],
   "source": [
    "import scipy.signal as signal\n",
    "\n",
    "\n",
    "t = np.arange(0,(Tend-Tstart)+Z[0].stats.delta,Z[0].stats.delta)\n",
    "fs=1/Z[0].stats.delta\n",
    "\n",
    "# use the number of scales\n",
    "w = 10.\n",
    "\n",
    "# relate scales with frequencies\n",
    "# freq = np.linspace(0, fs/2, 100)\n",
    "freq = np.logspace(-1, np.log10(fs/2), 100)\n",
    "widths = w*fs / (2*freq*np.pi)\n",
    "\n",
    "\n",
    "cwtm = signal.cwt(z, signal.morlet2, widths, w=w)"
   ]
  },
  {
   "cell_type": "markdown",
   "metadata": {},
   "source": [
    "Calculating the time-frequency representation of large time series "
   ]
  },
  {
   "cell_type": "code",
   "execution_count": null,
   "metadata": {},
   "outputs": [],
   "source": [
    "\n",
    "# cwtmatr = signal.cwt(z, signal.morlet, widths)\n",
    "plt.imshow(np.log10(np.abs(cwtm)), extent=[t.min(),t.max(),freq.min(),freq.max()], cmap='plasma', aspect='auto',\n",
    "           vmax=6, vmin=-0.5,origin='lower')\n",
    "# plt.yscale('log')\n",
    "# plt.set_x\n",
    "plt.show()"
   ]
  },
  {
   "cell_type": "markdown",
   "metadata": {},
   "source": [
    "TF transforms take computational time in the workflow, let's compare:"
   ]
  },
  {
   "cell_type": "code",
   "execution_count": null,
   "metadata": {},
   "outputs": [],
   "source": [
    "%timeit cwtm = signal.cwt(z, signal.morlet2, widths, w=w)\n",
    "%timeit f, t, Zxx = stft(n, fs=100, nperseg=nperseg,noverlap=200)\n"
   ]
  }
 ],
 "metadata": {
  "kernelspec": {
   "display_name": "Python 3 (ipykernel)",
   "language": "python",
   "name": "python3"
  },
  "language_info": {
   "codemirror_mode": {
    "name": "ipython",
    "version": 3
   },
   "file_extension": ".py",
   "mimetype": "text/x-python",
   "name": "python",
   "nbconvert_exporter": "python",
   "pygments_lexer": "ipython3",
   "version": "3.8.13"
  },
  "vscode": {
   "interpreter": {
    "hash": "f625eed87f201675869c1975f26c79747f846dd12cd9c70305bdb23b2c204f1d"
   }
  }
 },
 "nbformat": 4,
 "nbformat_minor": 4
}
